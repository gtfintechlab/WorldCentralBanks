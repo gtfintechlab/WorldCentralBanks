{
 "cells": [
  {
   "cell_type": "code",
   "execution_count": 9,
   "metadata": {},
   "outputs": [
    {
     "name": "stdout",
     "output_type": "stream",
     "text": [
      "Requirement already satisfied: pandas in /Users/hp/miniconda3/envs/ml_hw4/lib/python3.11/site-packages (2.2.2)\n",
      "Requirement already satisfied: numpy>=1.23.2 in /Users/hp/miniconda3/envs/ml_hw4/lib/python3.11/site-packages (from pandas) (1.26.4)\n",
      "Requirement already satisfied: python-dateutil>=2.8.2 in /Users/hp/miniconda3/envs/ml_hw4/lib/python3.11/site-packages (from pandas) (2.9.0.post0)\n",
      "Requirement already satisfied: pytz>=2020.1 in /Users/hp/miniconda3/envs/ml_hw4/lib/python3.11/site-packages (from pandas) (2024.1)\n",
      "Requirement already satisfied: tzdata>=2022.7 in /Users/hp/miniconda3/envs/ml_hw4/lib/python3.11/site-packages (from pandas) (2023.3)\n",
      "Requirement already satisfied: six>=1.5 in /Users/hp/miniconda3/envs/ml_hw4/lib/python3.11/site-packages (from python-dateutil>=2.8.2->pandas) (1.16.0)\n"
     ]
    }
   ],
   "source": [
    "!pip install pandas"
   ]
  },
  {
   "cell_type": "code",
   "execution_count": 7,
   "metadata": {},
   "outputs": [
    {
     "name": "stdout",
     "output_type": "stream",
     "text": [
      "Collecting openpyxl\n",
      "  Downloading openpyxl-3.1.5-py2.py3-none-any.whl.metadata (2.5 kB)\n",
      "Collecting et-xmlfile (from openpyxl)\n",
      "  Downloading et_xmlfile-2.0.0-py3-none-any.whl.metadata (2.7 kB)\n",
      "Downloading openpyxl-3.1.5-py2.py3-none-any.whl (250 kB)\n",
      "Downloading et_xmlfile-2.0.0-py3-none-any.whl (18 kB)\n",
      "Installing collected packages: et-xmlfile, openpyxl\n",
      "Successfully installed et-xmlfile-2.0.0 openpyxl-3.1.5\n"
     ]
    }
   ],
   "source": [
    "!pip install openpyxl"
   ]
  },
  {
   "cell_type": "code",
   "execution_count": 3,
   "metadata": {},
   "outputs": [
    {
     "name": "stdout",
     "output_type": "stream",
     "text": [
      "Merging complete. Final CSV with updated labels saved to: final_data_with_all_new_labels.csv\n"
     ]
    }
   ],
   "source": [
    "import pandas as pd\n",
    "\n",
    "# Paths to your files (adjust as needed)\n",
    "PATH_ORIGINAL = \"final_data.csv\"\n",
    "PATH_CORRECTED = \"revised_phillipines_full.xlsx\"\n",
    "PATH_OUTPUT   = \"final_data_with_all_new_labels.csv\"\n",
    "\n",
    "# 1. Read the original CSV\n",
    "df_original = pd.read_csv(PATH_ORIGINAL)\n",
    "\n",
    "# 2. Read the Excel file that contains the corrected columns\n",
    "df_corrections = pd.read_excel(PATH_CORRECTED, engine=\"openpyxl\")\n",
    "\n",
    "#--- OPTIONAL STRING NORMALIZATION -------------------------------------------\n",
    "df_original['sentences'] = df_original['sentences'].astype(str).str.strip()\n",
    "df_corrections['sentences'] = df_corrections['sentences'].astype(str).str.strip()\n",
    "#---------------------------------------------------------------------------\n",
    "\n",
    "# 3. Merge on the 'sentences' column.\n",
    "#    \"left\" join ensures all rows from df_original remain, even if there's no match.\n",
    "df_merged = pd.merge(\n",
    "    df_original,\n",
    "    df_corrections[['sentences', 'New_Label', 'New_time_label', 'New_certain_label']],  # relevant columns\n",
    "    on='sentences',\n",
    "    how='left'\n",
    ")\n",
    "\n",
    "# 4. Define valid label sets\n",
    "valid_sentiment = {\"hawkish\", \"dovish\", \"neutral\", \"irrelevant\"}\n",
    "valid_time      = {\"forward looking\", \"not forward looking\"}\n",
    "valid_certain   = {\"certain\", \"uncertain\"}\n",
    "\n",
    "# 5. Check for any invalid new labels\n",
    "invalid_senti_mask = df_merged['New_Label'].notna() & ~df_merged['New_Label'].isin(valid_sentiment)\n",
    "invalid_time_mask  = df_merged['New_time_label'].notna() & ~df_merged['New_time_label'].isin(valid_time)\n",
    "invalid_cert_mask  = df_merged['New_certain_label'].notna() & ~df_merged['New_certain_label'].isin(valid_certain)\n",
    "\n",
    "if invalid_senti_mask.any():\n",
    "    print(\"\\nWARNING: The rows below have invalid 'New_Label' values (not replaced):\")\n",
    "    print(df_merged.loc[invalid_senti_mask, ['sentences', 'New_Label']])\n",
    "\n",
    "if invalid_time_mask.any():\n",
    "    print(\"\\nWARNING: The rows below have invalid 'New_time_label' values (not replaced):\")\n",
    "    print(df_merged.loc[invalid_time_mask, ['sentences', 'New_time_label']])\n",
    "\n",
    "if invalid_cert_mask.any():\n",
    "    print(\"\\nWARNING: The rows below have invalid 'New_certain_label' values (not replaced):\")\n",
    "    print(df_merged.loc[invalid_cert_mask, ['sentences', 'New_certain_label']])\n",
    "\n",
    "# 6. Overwrite the original columns only when the new values are valid (and not NaN).\n",
    "\n",
    "def pick_label(row, original_col, new_col, valid_set):\n",
    "    \"\"\"\n",
    "    If new_col is non-null and in valid_set, use it.\n",
    "    Otherwise, fallback to original_col.\n",
    "    \"\"\"\n",
    "    new_val = row[new_col]\n",
    "    if pd.notnull(new_val) and new_val in valid_set:\n",
    "        return new_val\n",
    "    else:\n",
    "        return row[original_col]\n",
    "\n",
    "df_merged['sentiment_label'] = df_merged.apply(\n",
    "    pick_label, axis=1,\n",
    "    args=('sentiment_label', 'New_Label', valid_sentiment)\n",
    ")\n",
    "\n",
    "df_merged['time_label'] = df_merged.apply(\n",
    "    pick_label, axis=1,\n",
    "    args=('time_label', 'New_time_label', valid_time)\n",
    ")\n",
    "\n",
    "df_merged['certain_label'] = df_merged.apply(\n",
    "    pick_label, axis=1,\n",
    "    args=('certain_label', 'New_certain_label', valid_certain)\n",
    ")\n",
    "\n",
    "# 7. Drop the \"New_\" columns if you no longer need them in final output\n",
    "df_merged.drop(columns=['New_Label', 'New_time_label', 'New_certain_label'], inplace=True)\n",
    "\n",
    "# 8. Save to a new CSV\n",
    "df_merged.to_csv(PATH_OUTPUT, index=False)\n",
    "\n",
    "print(\"Merging complete. Final CSV with updated labels saved to:\", PATH_OUTPUT)\n"
   ]
  },
  {
   "cell_type": "code",
   "execution_count": 2,
   "metadata": {},
   "outputs": [
    {
     "name": "stdout",
     "output_type": "stream",
     "text": [
      "WARNING: The file contains characters that are not in the clam scan safe format:\n",
      "{'à', '”', '€', 'é', '‑', 'œ', '“', '’', '–', 'ñ'}\n"
     ]
    }
   ],
   "source": [
    "import string\n",
    "import pandas as pd\n",
    "\n",
    "df = pd.read_csv('final_data_with_new_labels.csv')\n",
    "\n",
    "# Define a set of allowed characters (you can adjust this set as needed)\n",
    "allowed_chars = set(string.ascii_letters + string.digits + string.punctuation + string.whitespace)\n",
    "\n",
    "# Read the entire file content\n",
    "with open('final_data_with_new_labels.csv', 'r', encoding='utf-8') as file:\n",
    "    content = file.read()\n",
    "\n",
    "# Check for any characters not in the allowed set\n",
    "invalid_chars = set(content) - allowed_chars\n",
    "\n",
    "if invalid_chars:\n",
    "    print(\"WARNING: The file contains characters that are not in the clam scan safe format:\")\n",
    "    print(invalid_chars)\n",
    "else:\n",
    "    print(\"The file is in clam scan safe format.\")"
   ]
  }
 ],
 "metadata": {
  "kernelspec": {
   "display_name": "fomc",
   "language": "python",
   "name": "python3"
  },
  "language_info": {
   "codemirror_mode": {
    "name": "ipython",
    "version": 3
   },
   "file_extension": ".py",
   "mimetype": "text/x-python",
   "name": "python",
   "nbconvert_exporter": "python",
   "pygments_lexer": "ipython3",
   "version": "3.12.5"
  }
 },
 "nbformat": 4,
 "nbformat_minor": 2
}
