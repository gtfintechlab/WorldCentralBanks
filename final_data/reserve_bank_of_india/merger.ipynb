{
 "cells": [
  {
   "cell_type": "code",
   "execution_count": 1,
   "metadata": {},
   "outputs": [
    {
     "name": "stdout",
     "output_type": "stream",
     "text": [
      "Merging complete. Final CSV with updated sentiment labels saved to: final_data_with_new_labels.csv\n"
     ]
    }
   ],
   "source": [
    "import pandas as pd\n",
    "\n",
    "# Paths to your files (adjust as needed)\n",
    "PATH_ORIGINAL = \"final_data.csv\"\n",
    "PATH_CORRECTED = \"5768_rbi.xlsx\"  # (Watch out for any typos like 5768 vs 5678)\n",
    "PATH_OUTPUT   = \"final_data_with_new_labels.csv\"\n",
    "\n",
    "# 1. Read the original CSV\n",
    "df_original = pd.read_csv(PATH_ORIGINAL)\n",
    "\n",
    "# 2. Read the Excel file that contains the corrected sentiment labels\n",
    "df_corrections = pd.read_excel(PATH_CORRECTED, engine=\"openpyxl\")\n",
    "\n",
    "#--- OPTIONAL STRING NORMALIZATION -------------------------------------------\n",
    "# If your `sentences` have whitespace or casing differences, you might do:\n",
    "df_original['sentences']   = df_original['sentences'].astype(str).str.strip()\n",
    "df_corrections['sentences'] = df_corrections['sentences'].astype(str).str.strip()\n",
    "#---------------------------------------------------------------------------\n",
    "\n",
    "# 3. Merge on the 'sentences' column.\n",
    "#    \"left\" join ensures all rows from df_original remain, even if there's no match.\n",
    "df_merged = pd.merge(\n",
    "    df_original,\n",
    "    df_corrections[['sentences', 'New_Label']],  # only keep relevant columns\n",
    "    on='sentences',\n",
    "    how='left'\n",
    ")\n",
    "\n",
    "# 4. Define valid labels\n",
    "valid_labels = {\"dovish\", \"hawkish\", \"neutral\", \"irrelevant\"}\n",
    "\n",
    "# 5. Check for any invalid new labels (not in valid_labels)\n",
    "invalid_mask = df_merged['New_Label'].notna() & ~df_merged['New_Label'].isin(valid_labels)\n",
    "if invalid_mask.any():\n",
    "    print(\"WARNING: The rows below have invalid New_Label values (not replaced):\")\n",
    "    print(df_merged.loc[invalid_mask, ['sentences', 'New_Label']])\n",
    "\n",
    "# 6. Overwrite 'sentiment_label' with 'New_Label' **if** the New_Label is valid.\n",
    "#    If New_Label is NaN or invalid, keep the old sentiment_label.\n",
    "def pick_label(row):\n",
    "    if pd.notnull(row['New_Label']) and row['New_Label'] in valid_labels:\n",
    "        return row['New_Label']\n",
    "    else:\n",
    "        return row['sentiment_label']\n",
    "\n",
    "df_merged['sentiment_label'] = df_merged.apply(pick_label, axis=1)\n",
    "\n",
    "# 7. (Optional) Drop the New_Label column if you no longer need it\n",
    "df_merged.drop(columns=['New_Label'], inplace=True)\n",
    "\n",
    "# 8. Save to a new CSV\n",
    "df_merged.to_csv(PATH_OUTPUT, index=False)\n",
    "\n",
    "print(\"Merging complete. Final CSV with updated sentiment labels saved to:\", PATH_OUTPUT)\n"
   ]
  },
  {
   "cell_type": "code",
   "execution_count": null,
   "metadata": {},
   "outputs": [],
   "source": []
  }
 ],
 "metadata": {
  "kernelspec": {
   "display_name": "ml_hw4",
   "language": "python",
   "name": "python3"
  },
  "language_info": {
   "codemirror_mode": {
    "name": "ipython",
    "version": 3
   },
   "file_extension": ".py",
   "mimetype": "text/x-python",
   "name": "python",
   "nbconvert_exporter": "python",
   "pygments_lexer": "ipython3",
   "version": "3.11.10"
  }
 },
 "nbformat": 4,
 "nbformat_minor": 2
}
