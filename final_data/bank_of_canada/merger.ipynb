{
 "cells": [
  {
   "cell_type": "code",
   "execution_count": 1,
   "metadata": {},
   "outputs": [
    {
     "name": "stdout",
     "output_type": "stream",
     "text": [
      "Requirement already satisfied: pandas in /Users/hp/miniconda3/envs/fomc/lib/python3.12/site-packages (2.2.3)\n",
      "Requirement already satisfied: numpy>=1.26.0 in /Users/hp/miniconda3/envs/fomc/lib/python3.12/site-packages (from pandas) (2.0.2)\n",
      "Requirement already satisfied: python-dateutil>=2.8.2 in /Users/hp/miniconda3/envs/fomc/lib/python3.12/site-packages (from pandas) (2.9.0.post0)\n",
      "Requirement already satisfied: pytz>=2020.1 in /Users/hp/miniconda3/envs/fomc/lib/python3.12/site-packages (from pandas) (2024.1)\n",
      "Requirement already satisfied: tzdata>=2022.7 in /Users/hp/miniconda3/envs/fomc/lib/python3.12/site-packages (from pandas) (2023.3)\n",
      "Requirement already satisfied: six>=1.5 in /Users/hp/miniconda3/envs/fomc/lib/python3.12/site-packages (from python-dateutil>=2.8.2->pandas) (1.16.0)\n"
     ]
    }
   ],
   "source": [
    "!pip install pandas"
   ]
  },
  {
   "cell_type": "code",
   "execution_count": 2,
   "metadata": {},
   "outputs": [
    {
     "name": "stdout",
     "output_type": "stream",
     "text": [
      "Requirement already satisfied: openpyxl in /Users/hp/miniconda3/envs/fomc/lib/python3.12/site-packages (3.1.5)\n",
      "Requirement already satisfied: et-xmlfile in /Users/hp/miniconda3/envs/fomc/lib/python3.12/site-packages (from openpyxl) (2.0.0)\n"
     ]
    }
   ],
   "source": [
    "!pip install openpyxl"
   ]
  },
  {
   "cell_type": "code",
   "execution_count": 2,
   "metadata": {},
   "outputs": [
    {
     "name": "stdout",
     "output_type": "stream",
     "text": [
      "Merging complete. Final CSV with updated sentiment labels saved to: final_data_with_new_labels.csv\n"
     ]
    }
   ],
   "source": [
    "import pandas as pd\n",
    "\n",
    "# Paths to your files (adjust as needed)\n",
    "PATH_ORIGINAL = \"final_data.csv\"\n",
    "PATH_CORRECTED = \"5768_bank_of_canada.xlsx\"  # (Watch out for any typos like 5768 vs 5678)\n",
    "PATH_OUTPUT   = \"final_data_with_new_labels.csv\"\n",
    "\n",
    "# 1. Read the original CSV\n",
    "df_original = pd.read_csv(PATH_ORIGINAL)\n",
    "\n",
    "# 2. Read the Excel file that contains the corrected sentiment labels\n",
    "df_corrections = pd.read_excel(PATH_CORRECTED, engine=\"openpyxl\")\n",
    "\n",
    "#--- OPTIONAL STRING NORMALIZATION -------------------------------------------\n",
    "# If your `sentences` have whitespace or casing differences, you might do:\n",
    "df_original['sentences']   = df_original['sentences'].astype(str).str.strip()\n",
    "df_corrections['sentences'] = df_corrections['sentences'].astype(str).str.strip()\n",
    "#---------------------------------------------------------------------------\n",
    "\n",
    "# 3. Merge on the 'sentences' column.\n",
    "#    \"left\" join ensures all rows from df_original remain, even if there's no match.\n",
    "df_merged = pd.merge(\n",
    "    df_original,\n",
    "    df_corrections[['sentences', 'New_Label']],  # only keep relevant columns\n",
    "    on='sentences',\n",
    "    how='left'\n",
    ")\n",
    "\n",
    "# 4. Define valid labels\n",
    "valid_labels = {\"dovish\", \"hawkish\", \"neutral\", \"irrelevant\"}\n",
    "\n",
    "# 5. Check for any invalid new labels (not in valid_labels)\n",
    "invalid_mask = df_merged['New_Label'].notna() & ~df_merged['New_Label'].isin(valid_labels)\n",
    "if invalid_mask.any():\n",
    "    print(\"WARNING: The rows below have invalid New_Label values (not replaced):\")\n",
    "    print(df_merged.loc[invalid_mask, ['sentences', 'New_Label']])\n",
    "\n",
    "# 6. Overwrite 'sentiment_label' with 'New_Label' **if** the New_Label is valid.\n",
    "#    If New_Label is NaN or invalid, keep the old sentiment_label.\n",
    "def pick_label(row):\n",
    "    if pd.notnull(row['New_Label']) and row['New_Label'] in valid_labels:\n",
    "        return row['New_Label']\n",
    "    else:\n",
    "        return row['sentiment_label']\n",
    "\n",
    "df_merged['sentiment_label'] = df_merged.apply(pick_label, axis=1)\n",
    "\n",
    "# 7. (Optional) Drop the New_Label column if you no longer need it\n",
    "df_merged.drop(columns=['New_Label'], inplace=True)\n",
    "\n",
    "# 8. Save to a new CSV\n",
    "df_merged.to_csv(PATH_OUTPUT, index=False)\n",
    "\n",
    "print(\"Merging complete. Final CSV with updated sentiment labels saved to:\", PATH_OUTPUT)\n"
   ]
  },
  {
   "cell_type": "code",
   "execution_count": 2,
   "metadata": {},
   "outputs": [
    {
     "name": "stdout",
     "output_type": "stream",
     "text": [
      "WARNING: The file contains characters that are not in the clam scan safe format:\n",
      "{'à', '”', '€', 'é', '‑', 'œ', '“', '’', '–', 'ñ'}\n"
     ]
    }
   ],
   "source": [
    "import string\n",
    "import pandas as pd\n",
    "\n",
    "df = pd.read_csv('final_data_with_new_labels.csv')\n",
    "\n",
    "# Define a set of allowed characters (you can adjust this set as needed)\n",
    "allowed_chars = set(string.ascii_letters + string.digits + string.punctuation + string.whitespace)\n",
    "\n",
    "# Read the entire file content\n",
    "with open('final_data_with_new_labels.csv', 'r', encoding='utf-8') as file:\n",
    "    content = file.read()\n",
    "\n",
    "# Check for any characters not in the allowed set\n",
    "invalid_chars = set(content) - allowed_chars\n",
    "\n",
    "if invalid_chars:\n",
    "    print(\"WARNING: The file contains characters that are not in the clam scan safe format:\")\n",
    "    print(invalid_chars)\n",
    "else:\n",
    "    print(\"The file is in clam scan safe format.\")"
   ]
  }
 ],
 "metadata": {
  "kernelspec": {
   "display_name": "fomc",
   "language": "python",
   "name": "python3"
  },
  "language_info": {
   "codemirror_mode": {
    "name": "ipython",
    "version": 3
   },
   "file_extension": ".py",
   "mimetype": "text/x-python",
   "name": "python",
   "nbconvert_exporter": "python",
   "pygments_lexer": "ipython3",
   "version": "3.12.5"
  }
 },
 "nbformat": 4,
 "nbformat_minor": 2
}
